{
 "cells": [
  {
   "cell_type": "markdown",
   "metadata": {},
   "source": [
    "# Cypher Tutorial: Graph Querying for RAG Systems with Neo4j"
   ]
  },
  {
   "cell_type": "markdown",
   "metadata": {},
   "source": [
    "Welcome to Cypher Query Language tutorial! This guide is designed for working with Graph Retrieval-Augmented Generation (RAG) systems. We'll combine practical examples with clear explanations, and you'll get hands-on experience using this Jupyter notebook. To make things easier to understand, we'll include visual diagrams of the knowledge graphs right in the notebook."
   ]
  },
  {
   "cell_type": "markdown",
   "metadata": {},
   "source": [
    "## Introduction to Cypher"
   ]
  },
  {
   "cell_type": "markdown",
   "metadata": {},
   "source": [
    "**Cypher** is a declarative language that helps us work with graph databases. Think of it like SQL, but specifically made for graphs. It's mainly used with Neo4j, which is one of the most popular graph databases.\n",
    "\n",
    "**Knowledge Graphs** are databases that store information in a way that explains the relationships between different pieces of information. Information is stored as nodes (entities) and relationships (edges) between them.\n",
    "\n",
    "Before we dive into using Cypher with Graph RAGs, let's first understand the basic building blocks: knowledge graphs, how Graph RAGs work, and how Cypher helps us talk to these systems."
   ]
  },
  {
   "cell_type": "markdown",
   "metadata": {},
   "source": [
    "## Understanding Knowledge Graphs and Neo4j"
   ]
  },
  {
   "cell_type": "markdown",
   "metadata": {},
   "source": [
    "### What is a Knowledge Graph?\n",
    "\n",
    "A knowledge graph is a network of entities (nodes) connected by relationships (edges) that represents structured information. Key advantages include:\n",
    "\n",
    "1.  **Relationship-Focused Data Model**: Knowledge graphs prioritize the explicit representation of *relationships* between data points. This allows you to see how things are connected, not just what they are. (e.g., \"John is friends with Mary\" is explicitly modeled).\n",
    "\n",
    "2.  **Explicit Semantic Connections**: Relationships in a knowledge graph have well-defined meanings (e.g., \"works at,\" \"is a part of\"). This makes the data's meaning clear and allows for more meaningful queries. Each relationship type provides explicit semantic meaning, instead of just implicit meaning based on a table join.\n",
    "\n",
    "3.  **Adaptable Data Structure**: Knowledge graphs allow you to easily add new types of entities and relationships to your model without having to do major schema changes. This is important for dealing with evolving information.\n",
    "\n",
    "4.  **Advanced Pathfinding & Pattern Matching**: The graph structure enables fast path discovery and pattern matching, making it easy to find indirect connections and complex relationships between entities.\n",
    "\n",
    "5.  **Fast Relationship Traversal**: The graph database architecture enables rapid traversal of relationships because it uses direct pointers to connected nodes, not requiring an index to find related nodes. (Note: *indexes are used for property searches*)\n",
    "\n",
    "6.  **Reliable and Consistent Data**: The underlying database (if using one) ensures that all changes to the knowledge graph are reliable and that data is always consistent, using ACID principles.\n",
    "\n",
    "7.  **Graph-Optimized Storage and Operations**: The underlying storage mechanism is specifically designed to store and manage graph data efficiently, leading to optimized operations and efficient memory usage when working with complex graphs.\n",
    "\n"
   ]
  },
  {
   "cell_type": "markdown",
   "metadata": {},
   "source": [
    "### Neo4j Architecture\n",
    "\n",
    "Neo4j implements knowledge graphs through:\n",
    "\n",
    "\n",
    "**Imagine a Network, Not a Table**\n",
    "\n",
    "Forget tables, rows, and columns. Think of a social network: people (nodes) connected by relationships (like \"friend of,\" \"works at\"). That's the core idea of a graph database, and Neo4j's architecture is built to handle this model efficiently.\n",
    "\n",
    "**Key Components:**\n",
    "\n",
    "1.  **Nodes (Vertices): The Entities**\n",
    "\n",
    "    *   Each node represents an entity in your domain – such as people, places, products, or concepts.\n",
    "    *   Each node holds properties, which are key-value pairs (e.g.,  `name: \"Alice\"`, `age: 30`, `city: \"New York\"`).\n",
    "    *   Each node is uniquely identified by an internal ID (not necessarily the property key).\n",
    "\n",
    "2.  **Relationships (Edges): The Connections**\n",
    "\n",
    "    *   Relationships connect nodes and represent the associations between entities.\n",
    "    *   Each relationship has a *type* (e.g., `FRIENDS_WITH`, `LOCATED_IN`, `PURCHASED`).\n",
    "    *   Relationships can be directed (e.g., \"Alice *follows* Bob\") or undirected.\n",
    "    *   Relationships can also have properties (e.g., a `FRIENDS_WITH` relationship could have a `since: 2020` property).\n",
    "\n",
    "3. **The Graph:**\n",
    "\n",
    "    *   The entire network of interconnected nodes and relationships forms a graph structure.\n",
    "    *   The underlying storage is optimized for traversing these relationships, providing fast performance for finding connected data.\n",
    "    *   Neo4j is schema-less, allowing you to add new nodes and relationships with different properties without needing predefined schemas.\n",
    "\n",
    "4. **The Core Engine (Kernel):**\n",
    "\n",
    "    *   The core engine is the central component that handles all database operations.\n",
    "    *   This includes managing the storage of nodes and relationships, indexing for efficient data retrieval, executing Cypher queries, and ensuring data consistency through transactions.\n",
    "\n",
    "5. **Cypher Query Language:**\n",
    "\n",
    "    *   Cypher is the native query language for Neo4j.\n",
    "    *   It's a declarative language, meaning you specify *what* you want to find without needing to specify *how* to execute the query.\n",
    "    *   Cypher is intuitive and uses patterns to specify queries in a way that is natural for working with relationships.\n",
    "\n",
    "6. **Neo4j Database:**\n",
    "\n",
    "    *   The Neo4j database is the storage layer for the graph database.\n",
    "    *   It stores the nodes and relationships in a way that is optimized for fast traversal.\n",
    "\n",
    "7. **Indexes:**\n",
    "\n",
    "    *   Please check the next section for more information about indexes.\n",
    "\n",
    "8. **Neo4j Server:**\n",
    "\n",
    "    *   The Neo4j server runs the core engine and provides an API for accessing the database.\n",
    "    *   It manages connections from client applications and handles concurrent access.\n",
    "    *   It exposes both a REST API and language-specific drivers for integration with different programming languages (Java, Python, JavaScript, etc.).\n",
    "\n",
    "8. **Neo4j Browser:**\n",
    "\n",
    "    *   The Neo4j Browser is a graphical user interface (GUI) for interacting with the database.\n",
    "    *   It allows users to run Cypher queries, visualize results as graphs, manage the database, and view the data model.\n",
    "\n",
    "**Why This Architecture Works:**\n",
    "\n",
    "*   **Fast Traversal:**  By storing connections directly as relationships, Neo4j can traverse the graph much faster than relational databases.\n",
    "*   **Flexibility:**  The schemaless nature allows for easy adaptation to changing data models.\n",
    "*   **Relationship-Centric:**  Neo4j's architecture is specifically designed for managing and querying connected data."
   ]
  },
  {
   "cell_type": "markdown",
   "metadata": {},
   "source": [
    "### Indexes\n",
    "\n",
    "Here's a breakdown of how indexes work in Neo4j and why they are important:\n",
    "\n",
    "**Purpose of Indexes in Neo4j**\n",
    "\n",
    "*   **Speed Up Data Retrieval:** Without indexes, Neo4j would have to scan every node and relationship in the database to find the data matching a query. This is extremely inefficient, especially for large graphs. Indexes allow Neo4j to quickly locate specific nodes and relationships based on their properties, drastically improving query performance.\n",
    "\n",
    "*   **Accelerate Lookups:** When you query data by a specific property value (e.g., `WHERE name = 'Alice'`), an index allows Neo4j to quickly find the nodes or relationships that have that value, without having to examine the entire graph.\n",
    "\n",
    "**Types of Indexes in Neo4j**\n",
    "\n",
    "1.  **Node Indexes:**\n",
    "    *   **Purpose:** Used to quickly find nodes based on the values of their properties.\n",
    "    *   **Example:** Indexing nodes with the label `Person` by the property `email`. This speeds up queries that find users with a specific email.\n",
    "    *   **Creation:** You specify the label and the property to be indexed when you create a node index.\n",
    "\n",
    "2.  **Relationship Indexes:**\n",
    "    *   **Purpose:** Used to find relationships based on their type and properties.\n",
    "    *   **Example:** Indexing `FRIENDS_WITH` relationships based on a property `since`.\n",
    "    *   **Creation:** You specify the relationship type and property when creating a relationship index.\n",
    "\n",
    "3.  **Composite Indexes:**\n",
    "    *   **Purpose:** Indexes based on multiple properties for both nodes and relationships.\n",
    "    *   **Example:** A composite index on `Person` nodes on `firstName` and `lastName`.\n",
    "    *   **Creation:** You can create composite indexes when you need to query data with multiple property conditions.\n",
    "\n",
    "4.  **Full-text Indexes:**\n",
    "    *   **Purpose:** Designed for searching text-based properties (e.g., searching for keywords in a document's content).\n",
    "    *   **Example:** Indexing node with label `Article` on properties such as title or body\n",
    "    *   **Creation:** Creates a special index that uses specific text search algorithms.\n",
    "\n",
    "5. **Spatial Indexes:**\n",
    "   * **Purpose:** Designed to perform geospatial queries.\n",
    "   * **Example:** Indexing `Location` nodes based on longitude and latitude.\n",
    "   * **Creation:** Enables queries based on proximity, containment, and other spatial relationships.\n",
    "\n",
    "**How Indexes Work in Neo4j**\n",
    "\n",
    "*   **B-Tree Structure (Primarily):** Most indexes in Neo4j are based on B-tree data structures. These are highly efficient for storing and retrieving data based on sorted property values.\n",
    "*   **Index Lookup:** When a query uses an indexed property, Neo4j uses the index to quickly find the internal IDs of the nodes or relationships matching the given value.\n",
    "*   **Traversal:** Neo4j uses these IDs to retrieve the data needed for the query.\n",
    "*   **Automatic Index Selection:** The Neo4j query planner automatically decides when to use an existing index to optimize a query based on the query filters.\n",
    "\n",
    "**Key Points:**\n",
    "\n",
    "*   **Performance Impact:** Indexes are essential for fast query performance, especially with large datasets.\n",
    "*   **Trade-offs:** While indexes improve read performance, they can slightly increase the time it takes to create and update data (since the indexes need to be updated as well).\n",
    "*   **Automatic Indexes:** Neo4j automatically creates indexes on node IDs.\n",
    "*   **Cypher Commands:** You create and manage indexes using Cypher commands like `CREATE INDEX ON :Label(property)`.\n",
    "*   **Index Selection**: Neo4j query planner selects best index for given query automatically.\n"
   ]
  },
  {
   "attachments": {
    "image.png": {
     "image/png": "[encoded data removed]"
    }
   },
   "cell_type": "markdown",
   "metadata": {},
   "source": [
    "![image.png](attachment:image.png)"
   ]
  },
  {
   "cell_type": "markdown",
   "metadata": {},
   "source": [
    "\n",
    "### How Neo4j Processes Queries\n",
    "\n",
    "Neo4j processes queries in three main steps:\n",
    "1. Planning: Analyzes query and creates optimized execution plan\n",
    "2. Matching: Uses indexes and efficient graph traversal to find patterns\n",
    "3. Result Generation: Streams results incrementally with memory-efficient pagination"
   ]
  },
  {
   "cell_type": "markdown",
   "metadata": {},
   "source": [
    "## Environment Setup"
   ]
  },
  {
   "cell_type": "markdown",
   "metadata": {},
   "source": [
    "**Install Dependencies:** We'll use the `neo4j` Python driver to connect to a Neo4j database and `py2neo` for easier interactions."
   ]
  },
  {
   "cell_type": "code",
   "execution_count": 63,
   "metadata": {
    "vscode": {
     "languageId": "shellscript"
    }
   },
   "outputs": [],
   "source": [
    "# Create a virtual environment called neo4j\n",
    "! python3 -m venv neo4j\n",
    "\n",
    "# Activate the virtual environment\n",
    "! source neo4j/bin/activate\n",
    "\n",
    "# Install the dependencies\n",
    "! pip install neo4j py2neo -q"
   ]
  },
  {
   "cell_type": "markdown",
   "metadata": {},
   "source": [
    "**Connect to Neo4j Database:** Ensure you have Neo4j installed and running locally. We'll connect to it using the default credentials."
   ]
  },
  {
   "cell_type": "code",
   "execution_count": 64,
   "metadata": {
    "vscode": {
     "languageId": "shellscript"
    }
   },
   "outputs": [],
   "source": [
    "from neo4j import GraphDatabase\n",
    "from py2neo import Graph\n",
    "from getpass import getpass\n",
    "\n",
    "# Connect to Neo4j\n",
    "uri = \"bolt://localhost:7687\"\n",
    "username = \"neo4j\"\n",
    "password = getpass(\"Enter your Neo4j password: \")\n",
    "\n",
    "driver = GraphDatabase.driver(uri, auth=(username, password))\n",
    "graph = Graph(uri, auth=(username, password))"
   ]
  },
  {
   "cell_type": "markdown",
   "metadata": {},
   "source": [
    "**Helper Functions:** Now let's create the helper functions. "
   ]
  },
  {
   "cell_type": "code",
   "execution_count": 65,
   "metadata": {
    "vscode": {
     "languageId": "shellscript"
    }
   },
   "outputs": [
    {
     "data": {
      "application/vnd.jupyter.widget-view+json": {
       "model_id": "c0a422917069485db98c83b1ba1307e0",
       "version_major": 2,
       "version_minor": 0
      },
      "text/plain": [
       "GraphWidget(layout=Layout(height='620px', width='100%'))"
      ]
     },
     "metadata": {},
     "output_type": "display_data"
    }
   ],
   "source": [
    "# Graph Visualization\n",
    "from yfiles_jupyter_graphs_for_neo4j import Neo4jGraphWidget\n",
    "from neo4j import GraphDatabase\n",
    "\n",
    "def visualize_graph(cypher_query: str):\n",
    "    g = Neo4jGraphWidget(driver)\n",
    "    g.show_cypher(cypher_query)\n",
    "\n",
    "# Test the graph visualization\n",
    "visualize_graph(\"MATCH (s)-[r]->(t) RETURN s,r,t LIMIT 10\")"
   ]
  },
  {
   "cell_type": "markdown",
   "metadata": {},
   "source": [
    "You can run cypher queries by using the the below function."
   ]
  },
  {
   "cell_type": "code",
   "execution_count": 66,
   "metadata": {
    "vscode": {
     "languageId": "shellscript"
    }
   },
   "outputs": [
    {
     "name": "stdout",
     "output_type": "stream",
     "text": [
      "['Person']\n",
      "['Company']\n",
      "['City']\n",
      "['Skill']\n",
      "[]\n"
     ]
    }
   ],
   "source": [
    "# Running a Cypher query\n",
    "def run_cypher_query(cypher_query: str):\n",
    "    data = graph.run(cypher_query)\n",
    "    for record in data:\n",
    "        print(record)\n",
    "\n",
    "# Test the function to visualize all the nodes labels in the graph\n",
    "run_cypher_query(\"MATCH (s) RETURN DISTINCT labels(s) AS label\")"
   ]
  },
  {
   "cell_type": "markdown",
   "metadata": {},
   "source": [
    "Now let's create some sample data."
   ]
  },
  {
   "cell_type": "code",
   "execution_count": 116,
   "metadata": {},
   "outputs": [
    {
     "name": "stdout",
     "output_type": "stream",
     "text": [
      "'Alice Johnson'\n",
      "'Bob Smith'\n",
      "'Carol Williams'\n",
      "'Dave Brown'\n",
      "'Eve Davis'\n",
      "'London'\n",
      "'New York'\n",
      "'San Francisco'\n",
      "'DataInc'\n",
      "'TechCorp'\n",
      "'WebSoft'\n",
      "'Java'\n",
      "'Machine Learning'\n",
      "'Neo4j'\n",
      "'Python'\n"
     ]
    }
   ],
   "source": [
    "# First, clean everything\n",
    "run_cypher_query(\"\"\"\n",
    "MATCH (n) \n",
    "DETACH DELETE n;\n",
    "\"\"\")\n",
    "\n",
    "# 1. Create all Person nodes\n",
    "run_cypher_query(\"\"\"\n",
    "CREATE \n",
    "    (alice:Person {\n",
    "        name: 'Alice Johnson',\n",
    "        age: 30,\n",
    "        email: 'alice@email.com',\n",
    "        joined: date('2020-01-01')\n",
    "    }),\n",
    "    (bob:Person {\n",
    "        name: 'Bob Smith',\n",
    "        age: 35,\n",
    "        email: 'bob@email.com',\n",
    "        joined: date('2020-02-15')\n",
    "    }),\n",
    "    (carol:Person {\n",
    "        name: 'Carol Williams',\n",
    "        age: 28,\n",
    "        email: 'carol@email.com',\n",
    "        joined: date('2020-03-20')\n",
    "    }),\n",
    "    (dave:Person {\n",
    "        name: 'Dave Brown',\n",
    "        age: 42,\n",
    "        email: 'dave@email.com',\n",
    "        joined: date('2020-04-10')\n",
    "    }),\n",
    "    (eve:Person {\n",
    "        name: 'Eve Davis',\n",
    "        age: 25,\n",
    "        email: 'eve@email.com',\n",
    "        joined: date('2020-05-05')\n",
    "    })\n",
    "\"\"\")\n",
    "\n",
    "# Verify Person nodes\n",
    "run_cypher_query(\"\"\"\n",
    "MATCH (p:Person)\n",
    "RETURN p.name as name\n",
    "ORDER BY name;\n",
    "\"\"\")\n",
    "\n",
    "# 2. Create City nodes\n",
    "run_cypher_query(\"\"\"\n",
    "CREATE \n",
    "    (nyc:City {\n",
    "        name: 'New York',\n",
    "        country: 'USA',\n",
    "        population: 8400000\n",
    "    }),\n",
    "    (sf:City {\n",
    "        name: 'San Francisco',\n",
    "        country: 'USA',\n",
    "        population: 874961\n",
    "    }),\n",
    "    (london:City {\n",
    "        name: 'London',\n",
    "        country: 'UK',\n",
    "        population: 8982000\n",
    "    })\n",
    "\"\"\")\n",
    "\n",
    "# Verify City nodes\n",
    "run_cypher_query(\"\"\"\n",
    "MATCH (c:City)\n",
    "RETURN c.name as name\n",
    "ORDER BY name;\n",
    "\"\"\")\n",
    "\n",
    "# 3. Create Company nodes\n",
    "run_cypher_query(\"\"\"\n",
    "CREATE \n",
    "    (techCorp:Company {\n",
    "        name: 'TechCorp',\n",
    "        founded: date('2010-01-01'),\n",
    "        industry: 'Technology'\n",
    "    }),\n",
    "    (dataInc:Company {\n",
    "        name: 'DataInc',\n",
    "        founded: date('2015-06-15'),\n",
    "        industry: 'Data Analytics'\n",
    "    }),\n",
    "    (webSoft:Company {\n",
    "        name: 'WebSoft',\n",
    "        founded: date('2012-03-20'),\n",
    "        industry: 'Software'\n",
    "    })\n",
    "\"\"\")\n",
    "\n",
    "# Verify Company nodes\n",
    "run_cypher_query(\"\"\"\n",
    "MATCH (c:Company)\n",
    "RETURN c.name as name\n",
    "ORDER BY name;\n",
    "\"\"\")\n",
    "\n",
    "# 4. Create Skill nodes\n",
    "run_cypher_query(\"\"\"\n",
    "CREATE \n",
    "    (python:Skill {name: 'Python', category: 'Programming'}),\n",
    "    (java:Skill {name: 'Java', category: 'Programming'}),\n",
    "    (ml:Skill {name: 'Machine Learning', category: 'Data Science'}),\n",
    "    (neo4j:Skill {name: 'Neo4j', category: 'Database'})\n",
    "\"\"\")\n",
    "\n",
    "# Verify Skill nodes\n",
    "run_cypher_query(\"\"\"\n",
    "MATCH (s:Skill)\n",
    "RETURN s.name as name\n",
    "ORDER BY name;\n",
    "\"\"\")\n",
    "\n",
    "# Create relationships with MERGE instead of CREATE to avoid duplicates\n",
    "run_cypher_query(\"\"\"\n",
    "MATCH (alice:Person {name: 'Alice Johnson'})\n",
    "MATCH (bob:Person {name: 'Bob Smith'})\n",
    "MATCH (carol:Person {name: 'Carol Williams'})\n",
    "MATCH (dave:Person {name: 'Dave Brown'})\n",
    "MATCH (eve:Person {name: 'Eve Davis'})\n",
    "MERGE (alice)-[:KNOWS {since: date('2019-01-01'), strength: 0.8}]->(bob)\n",
    "MERGE (bob)-[:KNOWS {since: date('2019-02-01'), strength: 0.6}]->(carol)\n",
    "MERGE (carol)-[:KNOWS {since: date('2019-03-01'), strength: 0.7}]->(dave)\n",
    "MERGE (dave)-[:KNOWS {since: date('2019-04-01'), strength: 0.9}]->(eve)\n",
    "MERGE (eve)-[:KNOWS {since: date('2019-05-01'), strength: 0.5}]->(alice)\n",
    "MERGE (alice)-[:KNOWS {since: date('2019-06-01'), strength: 0.4}]->(carol)\n",
    "\"\"\")\n",
    "\n",
    "run_cypher_query(\"\"\"\n",
    "MATCH (alice:Person {name: 'Alice Johnson'})\n",
    "MATCH (bob:Person {name: 'Bob Smith'})\n",
    "MATCH (carol:Person {name: 'Carol Williams'})\n",
    "MATCH (dave:Person {name: 'Dave Brown'})\n",
    "MATCH (eve:Person {name: 'Eve Davis'})\n",
    "MATCH (nyc:City {name: 'New York'})\n",
    "MATCH (sf:City {name: 'San Francisco'})\n",
    "MATCH (london:City {name: 'London'})\n",
    "MERGE (alice)-[:LIVES_IN {since: date('2018-01-01')}]->(nyc)\n",
    "MERGE (bob)-[:LIVES_IN {since: date('2018-02-01')}]->(sf)\n",
    "MERGE (carol)-[:LIVES_IN {since: date('2018-03-01')}]->(london)\n",
    "MERGE (dave)-[:LIVES_IN {since: date('2018-04-01')}]->(nyc)\n",
    "MERGE (eve)-[:LIVES_IN {since: date('2018-05-01')}]->(sf)\n",
    "\"\"\")\n",
    "\n",
    "run_cypher_query(\"\"\"\n",
    "MATCH (alice:Person {name: 'Alice Johnson'})\n",
    "MATCH (bob:Person {name: 'Bob Smith'})\n",
    "MATCH (carol:Person {name: 'Carol Williams'})\n",
    "MATCH (dave:Person {name: 'Dave Brown'})\n",
    "MATCH (eve:Person {name: 'Eve Davis'})\n",
    "MATCH (techCorp:Company {name: 'TechCorp'})\n",
    "MATCH (dataInc:Company {name: 'DataInc'})\n",
    "MATCH (webSoft:Company {name: 'WebSoft'})\n",
    "MERGE (alice)-[:WORKS_AT {since: date('2020-01-15'), role: 'Software Engineer'}]->(techCorp)\n",
    "MERGE (bob)-[:WORKS_AT {since: date('2020-02-20'), role: 'Data Scientist'}]->(dataInc)\n",
    "MERGE (carol)-[:WORKS_AT {since: date('2020-03-25'), role: 'Developer'}]->(webSoft)\n",
    "MERGE (dave)-[:WORKS_AT {since: date('2020-04-30'), role: 'Manager'}]->(techCorp)\n",
    "MERGE (eve)-[:WORKS_AT {since: date('2020-05-10'), role: 'Analyst'}]->(dataInc)\n",
    "\"\"\")\n",
    "\n",
    "run_cypher_query(\"\"\"\n",
    "MATCH (alice:Person {name: 'Alice Johnson'})\n",
    "MATCH (bob:Person {name: 'Bob Smith'})\n",
    "MATCH (carol:Person {name: 'Carol Williams'})\n",
    "MATCH (dave:Person {name: 'Dave Brown'})\n",
    "MATCH (eve:Person {name: 'Eve Davis'})\n",
    "MATCH (python:Skill {name: 'Python'})\n",
    "MATCH (java:Skill {name: 'Java'})\n",
    "MATCH (ml:Skill {name: 'Machine Learning'})\n",
    "MATCH (neo4j:Skill {name: 'Neo4j'})\n",
    "MERGE (alice)-[:HAS_SKILL {level: 'Expert', years: 5}]->(python)\n",
    "MERGE (alice)-[:HAS_SKILL {level: 'Intermediate', years: 3}]->(java)\n",
    "MERGE (bob)-[:HAS_SKILL {level: 'Expert', years: 4}]->(ml)\n",
    "MERGE (carol)-[:HAS_SKILL {level: 'Advanced', years: 3}]->(neo4j)\n",
    "MERGE (dave)-[:HAS_SKILL {level: 'Expert', years: 6}]->(java)\n",
    "MERGE (eve)-[:HAS_SKILL {level: 'Intermediate', years: 2}]->(python)\n",
    "\"\"\")\n",
    "\n",
    "run_cypher_query(\"\"\"\n",
    "MATCH (techCorp:Company {name: 'TechCorp'})\n",
    "MATCH (dataInc:Company {name: 'DataInc'})\n",
    "MATCH (webSoft:Company {name: 'WebSoft'})\n",
    "MATCH (nyc:City {name: 'New York'})\n",
    "MATCH (sf:City {name: 'San Francisco'})\n",
    "MATCH (london:City {name: 'London'})\n",
    "MERGE (techCorp)-[:LOCATED_IN]->(nyc)\n",
    "MERGE (dataInc)-[:LOCATED_IN]->(sf)\n",
    "MERGE (webSoft)-[:LOCATED_IN]->(london)\n",
    "\"\"\")"
   ]
  },
  {
   "cell_type": "code",
   "execution_count": 117,
   "metadata": {},
   "outputs": [
    {
     "name": "stdout",
     "output_type": "stream",
     "text": [
      "'HAS_SKILL'\t6\n",
      "'KNOWS'\t6\n",
      "'LIVES_IN'\t5\n",
      "'LOCATED_IN'\t3\n",
      "'WORKS_AT'\t5\n"
     ]
    }
   ],
   "source": [
    "run_cypher_query(\"\"\"\n",
    "MATCH (n)-[r]->(m)\n",
    "RETURN type(r) as relationship_type, count(*) as count\n",
    "ORDER BY relationship_type;\n",
    "\"\"\")"
   ]
  },
  {
   "cell_type": "markdown",
   "metadata": {},
   "source": [
    "This script creates:\n",
    "1. Nodes with Labels:\n",
    "- Person\n",
    "- Company\n",
    "- City\n",
    "- Skill\n",
    "2. Relationships:\n",
    "- KNOWS (Person->Person)\n",
    "- WORKS_AT (Person->Company)\n",
    "- LIVES_IN (Person->City)\n",
    "- HAS_SKILL (Person->Skill)\n",
    "- LOCATED_IN (Company->City)\n",
    "3. Properties:\n",
    "- Persons: name, age, email, joined\n",
    "- Companies: name, founded, industry\n",
    "- Cities: name, country, population\n",
    "- Skills: name, category\n",
    "- Relationships have properties like 'since', 'strength', 'role', 'level', etc.\n",
    "4. Indexes:\n",
    "- On Person.name\n",
    "- On Company.name\n",
    "- On City.name\n",
    "- On Skill.name"
   ]
  },
  {
   "cell_type": "markdown",
   "metadata": {},
   "source": [
    "\n",
    "After running it, you can verify the data creation with queries like:"
   ]
  },
  {
   "cell_type": "code",
   "execution_count": 118,
   "metadata": {
    "vscode": {
     "languageId": "shellscript"
    }
   },
   "outputs": [
    {
     "name": "stdout",
     "output_type": "stream",
     "text": [
      "['Person']\t5\n",
      "['City']\t3\n",
      "['Company']\t3\n",
      "['Skill']\t4\n",
      "'KNOWS'\t6\n",
      "'WORKS_AT'\t5\n",
      "'LIVES_IN'\t5\n",
      "'HAS_SKILL'\t6\n",
      "'LOCATED_IN'\t3\n",
      "4\t'city_name'\t'ONLINE'\t100.0\t'RANGE'\t'NODE'\t['City']\t['name']\t'range-1.0'\tNone\tDateTime(2024, 12, 15, 18, 43, 20.445, tzinfo=<UTC>)\t22\n",
      "3\t'company_name'\t'ONLINE'\t100.0\t'RANGE'\t'NODE'\t['Company']\t['name']\t'range-1.0'\tNone\tDateTime(2024, 12, 15, 18, 43, 20.445, tzinfo=<UTC>)\t20\n",
      "0\t'index_343aff4e'\t'ONLINE'\t100.0\t'LOOKUP'\t'NODE'\tNone\tNone\t'token-lookup-1.0'\tNone\tDateTime(2024, 12, 15, 18, 43, 18.509, tzinfo=<UTC>)\t14798\n",
      "1\t'index_f7700477'\t'ONLINE'\t100.0\t'LOOKUP'\t'RELATIONSHIP'\tNone\tNone\t'token-lookup-1.0'\tNone\tDateTime(2024, 12, 15, 18, 41, 4.482, tzinfo=<UTC>)\t3\n",
      "2\t'person_name'\t'ONLINE'\t100.0\t'RANGE'\t'NODE'\t['Person']\t['name']\t'range-1.0'\tNone\tDateTime(2024, 12, 15, 18, 43, 20.296, tzinfo=<UTC>)\t125\n",
      "5\t'skill_name'\t'ONLINE'\t100.0\t'RANGE'\t'NODE'\t['Skill']\t['name']\t'range-1.0'\tNone\tDateTime(2024, 12, 15, 18, 43, 20.296, tzinfo=<UTC>)\t14\n"
     ]
    }
   ],
   "source": [
    "# Count nodes by label\n",
    "run_cypher_query(\"\"\"\n",
    "MATCH (n)\n",
    "RETURN labels(n) as Label, count(*) as Count;\n",
    "\"\"\")\n",
    "\n",
    "# Count relationships by type\n",
    "run_cypher_query(\"\"\"\n",
    "MATCH ()-[r]->()\n",
    "RETURN type(r) as RelationType, count(*) as Count;\n",
    "\"\"\")\n",
    "\n",
    "# View indexes\n",
    "run_cypher_query(\"\"\"\n",
    "SHOW INDEXES;\n",
    "\"\"\")"
   ]
  },
  {
   "cell_type": "markdown",
   "metadata": {},
   "source": [
    "## Basic Cypher Syntax"
   ]
  },
  {
   "cell_type": "markdown",
   "metadata": {},
   "source": [
    "### Core Syntax Elements\n",
    "\n",
    "1. **Nodes**\n",
    "```cypher\n",
    "// Basic node syntax\n",
    "(variable:Label {property: value})\n",
    "\n",
    "// Examples\n",
    "(p:Person)  // Node with label\n",
    "(p:Person {name: \"John\", age: 30})  // Node with properties\n",
    "(:Person)   // Anonymous node\n",
    "```\n",
    "\n",
    "2. **Relationships**\n",
    "```cypher\n",
    "// Basic relationship syntax\n",
    "(node1)-[rel:TYPE]->(node2)  // Directed\n",
    "(node1)-[rel:TYPE]-(node2)   // Undirected\n",
    "\n",
    "// Examples\n",
    "(p1:Person)-[:KNOWS]->(p2:Person)\n",
    "(p1)-[r:WORKS_AT {since: 2020}]->(c:Company)\n",
    "```"
   ]
  },
  {
   "cell_type": "markdown",
   "metadata": {},
   "source": [
    "### Key Points\n",
    "\n",
    "- Nodes are enclosed in parentheses ()\n",
    "- Relationships are shown with arrows --> or <--\n",
    "- Properties are specified in curly braces {}\n",
    "- Labels and relationship types are prefixed with :\n",
    "- Variables are optional but useful for referencing"
   ]
  },
  {
   "cell_type": "markdown",
   "metadata": {},
   "source": [
    "### Basic Operations\n",
    "\n",
    "```cypher\n",
    "// MATCH - Pattern matching\n",
    "MATCH (p:Person)-[:KNOWS]->(friend)\n",
    "RETURN p.name, friend.name\n",
    "\n",
    "// CREATE - Creating nodes/relationships\n",
    "CREATE (p:Person {name: \"Jane\"})\n",
    "CREATE (p1)-[:KNOWS]->(p2)\n",
    "\n",
    "// MERGE - Match or create\n",
    "MERGE (p:Person {name: \"John\"})\n",
    "ON CREATE SET p.created = timestamp()\n",
    "\n",
    "// DELETE - Remove nodes/relationships\n",
    "MATCH (p:Person {name: \"John\"})\n",
    "DELETE p\n",
    "\n",
    "// WHERE - Filtering\n",
    "MATCH (p:Person)\n",
    "WHERE p.age > 25\n",
    "RETURN p.name, p.age\n",
    "```"
   ]
  },
  {
   "cell_type": "markdown",
   "metadata": {},
   "source": [
    "### Common Clauses\n",
    "\n",
    "```cypher\n",
    "MATCH    // Pattern matching\n",
    "CREATE   // Create nodes/relationships\n",
    "MERGE    // Create if not exists\n",
    "SET      // Update properties\n",
    "WHERE    // Filter conditions\n",
    "RETURN   // Specify output\n",
    "ORDER BY // Sort results\n",
    "LIMIT    // Restrict number of results\n",
    "DELETE   // Remove nodes/relationships\n",
    "REMOVE   // Remove properties/labels\n",
    "```"
   ]
  },
  {
   "cell_type": "markdown",
   "metadata": {},
   "source": [
    "## Advanced Cypher Features"
   ]
  },
  {
   "cell_type": "markdown",
   "metadata": {},
   "source": [
    "### Variable-Length Paths\n",
    "\n",
    "Variable-length paths allow matching paths of different lengths using the `*` operator with optional minimum and maximum lengths.\n",
    "\n",
    "**Syntax:**\n",
    "```cypher\n",
    "(start)-[:TYPE*min..max]->(end)\n",
    "```"
   ]
  },
  {
   "cell_type": "code",
   "execution_count": 119,
   "metadata": {},
   "outputs": [
    {
     "name": "stdout",
     "output_type": "stream",
     "text": [
      "'Alice Johnson'\t'Bob Smith'\t1\t['Alice Johnson', 'Bob Smith']\n",
      "'Alice Johnson'\t'Carol Williams'\t1\t['Alice Johnson', 'Carol Williams']\n",
      "'Alice Johnson'\t'Carol Williams'\t2\t['Alice Johnson', 'Bob Smith', 'Carol Williams']\n",
      "'Alice Johnson'\t'Dave Brown'\t2\t['Alice Johnson', 'Carol Williams', 'Dave Brown']\n",
      "'Alice Johnson'\t'Dave Brown'\t3\t['Alice Johnson', 'Bob Smith', 'Carol Williams', 'Dave Brown']\n",
      "'Alice Johnson'\t'Eve Davis'\t3\t['Alice Johnson', 'Carol Williams', 'Dave Brown', 'Eve Davis']\n"
     ]
    }
   ],
   "source": [
    "# Find all friends of friends up to 3 connections away from Alice Johnson\n",
    "run_cypher_query(\"\"\"\n",
    "    MATCH path = (p:Person {name: 'Alice Johnson'})-[:KNOWS*1..3]->(friend:Person)\n",
    "    WHERE p <> friend\n",
    "    RETURN \n",
    "        p.name as starting_person, \n",
    "        friend.name as connected_person, \n",
    "        length(path) as connections_away,\n",
    "        [x IN nodes(path) | x.name] as path_nodes\n",
    "    ORDER BY connections_away;\n",
    "\"\"\")"
   ]
  },
  {
   "cell_type": "code",
   "execution_count": 120,
   "metadata": {},
   "outputs": [
    {
     "name": "stdout",
     "output_type": "stream",
     "text": [
      "'Alice Johnson'\t'Carol Williams'\t2\n",
      "'Alice Johnson'\t'Dave Brown'\t2\n"
     ]
    }
   ],
   "source": [
    "# Find all friends of friends exactly 2 steps away from Alice Johnson\n",
    "run_cypher_query(\"\"\"\n",
    "    MATCH path = (p:Person {name: 'Alice Johnson'})-[:KNOWS*2..2]->(friend:Person)\n",
    "    RETURN \n",
    "    p.name as person, \n",
    "    friend.name as friend, \n",
    "    length(path) as distance;\n",
    "\"\"\")"
   ]
  },
  {
   "cell_type": "code",
   "execution_count": 121,
   "metadata": {},
   "outputs": [
    {
     "name": "stdout",
     "output_type": "stream",
     "text": [
      "'Alice Johnson'\t'Bob Smith'\t1\n",
      "'Alice Johnson'\t'Carol Williams'\t2\n",
      "'Alice Johnson'\t'Dave Brown'\t3\n",
      "'Alice Johnson'\t'Carol Williams'\t1\n",
      "'Alice Johnson'\t'Dave Brown'\t2\n",
      "'Alice Johnson'\t'Eve Davis'\t3\n"
     ]
    }
   ],
   "source": [
    "# Up to 3 steps (maximum bound only)\n",
    "run_cypher_query(\"\"\"\n",
    "    MATCH path = (p:Person {name: 'Alice Johnson'})-[:KNOWS*..3]->(friend:Person)\n",
    "    RETURN \n",
    "        p.name as person, \n",
    "        friend.name as friend, \n",
    "        length(path) as distance;\n",
    "\"\"\")"
   ]
  },
  {
   "cell_type": "code",
   "execution_count": 122,
   "metadata": {},
   "outputs": [
    {
     "name": "stdout",
     "output_type": "stream",
     "text": [
      "'Bob Smith'\t'Eve Davis'\t3\t['Bob Smith', 'Carol Williams', 'Dave Brown', 'Eve Davis']\n"
     ]
    }
   ],
   "source": [
    "# Find all possible paths between Bob Smith and Eve Davis\n",
    "run_cypher_query(\"\"\"\n",
    "    MATCH path = (start:Person {name: 'Bob Smith'})-[:KNOWS*]->(end:Person {name: 'Eve Davis'})\n",
    "    RETURN \n",
    "        start.name as from,\n",
    "        end.name as to,\n",
    "        length(path) as path_length,\n",
    "        [x IN nodes(path) | x.name] as full_path;\n",
    "\"\"\")\n"
   ]
  },
  {
   "cell_type": "markdown",
   "metadata": {},
   "source": [
    "### Optional Matches\n",
    "\n",
    "Optional matches are useful when you want to return results even if part of the pattern doesn't match."
   ]
  },
  {
   "cell_type": "code",
   "execution_count": 123,
   "metadata": {},
   "outputs": [
    {
     "name": "stdout",
     "output_type": "stream",
     "text": [
      "'Alice Johnson'\t'New York'\tDate(2018, 1, 1)\n",
      "'Bob Smith'\t'San Francisco'\tDate(2018, 2, 1)\n",
      "'Carol Williams'\t'London'\tDate(2018, 3, 1)\n",
      "'Dave Brown'\t'New York'\tDate(2018, 4, 1)\n",
      "'Eve Davis'\t'San Francisco'\tDate(2018, 5, 1)\n"
     ]
    }
   ],
   "source": [
    "# Find all people and their cities (if they have one)\n",
    "run_cypher_query(\"\"\"\n",
    "    MATCH (p:Person)\n",
    "    OPTIONAL MATCH (p)-[l:LIVES_IN]->(c:City)\n",
    "    RETURN \n",
    "        p.name as person,\n",
    "        c.name as city,\n",
    "        l.since as living_there_since\n",
    "    ORDER BY p.name;\n",
    "\"\"\")"
   ]
  },
  {
   "cell_type": "code",
   "execution_count": 129,
   "metadata": {},
   "outputs": [
    {
     "name": "stdout",
     "output_type": "stream",
     "text": [
      "'Alice Johnson'\t2\n",
      "'Bob Smith'\t1\n",
      "'Carol Williams'\t1\n",
      "'Dave Brown'\t1\n",
      "'Eve Davis'\t1\n"
     ]
    }
   ],
   "source": [
    "# Count friends for each person\n",
    "run_cypher_query(\"\"\"\n",
    "    MATCH (p:Person)\n",
    "    OPTIONAL MATCH (p)-[:KNOWS]->(friend)\n",
    "    RETURN p.name as person, count(friend) as friend_count\n",
    "    ORDER BY friend_count DESC\n",
    "\"\"\")"
   ]
  },
  {
   "cell_type": "markdown",
   "metadata": {},
   "source": [
    "### Subqueries\n",
    "\n",
    "Subqueries allow you to perform complex operations within a larger query."
   ]
  },
  {
   "cell_type": "code",
   "execution_count": 128,
   "metadata": {},
   "outputs": [
    {
     "name": "stdout",
     "output_type": "stream",
     "text": [
      "'Alice Johnson'\t2\t1.2\n"
     ]
    }
   ],
   "source": [
    "# Find all people with more friends than the average number of friends\n",
    "\n",
    "run_cypher_query(\"\"\"\n",
    "    // First calculate the average number of friends\n",
    "    MATCH (p:Person)\n",
    "    MATCH (p)-[:KNOWS]->(friend)\n",
    "    WITH p, COUNT(friend) as friend_count\n",
    "    WITH avg(friend_count) as avg_friends\n",
    "\n",
    "    // Then find people with more friends than average\n",
    "    MATCH (p:Person)\n",
    "    MATCH (p)-[:KNOWS]->(friend)\n",
    "    WITH p, COUNT(friend) as friend_count, avg_friends\n",
    "    WHERE friend_count > avg_friends\n",
    "    RETURN \n",
    "        p.name as person, \n",
    "        friend_count, \n",
    "        avg_friends\n",
    "    ORDER BY friend_count DESC\n",
    "\"\"\")"
   ]
  },
  {
   "cell_type": "markdown",
   "metadata": {},
   "source": [
    "### All Paths\n",
    "\n",
    "Find all possible paths between nodes:"
   ]
  },
  {
   "cell_type": "code",
   "execution_count": 133,
   "metadata": {},
   "outputs": [
    {
     "name": "stdout",
     "output_type": "stream",
     "text": [
      "['Alice Johnson', 'Carol Williams']\t1\n"
     ]
    },
    {
     "data": {
      "application/vnd.jupyter.widget-view+json": {
       "model_id": "59299bcca40d45a98291b5b131c8604b",
       "version_major": 2,
       "version_minor": 0
      },
      "text/plain": [
       "GraphWidget(layout=Layout(height='500px', width='100%'))"
      ]
     },
     "metadata": {},
     "output_type": "display_data"
    }
   ],
   "source": [
    "# Find all paths between Alice Johnson and Carol Williams\n",
    "run_cypher_query(\"\"\"\n",
    "MATCH path = (p1:Person {name: 'Alice Johnson'})-[:KNOWS]-(p2:Person {name: 'Carol Williams'})\n",
    "RETURN [node in nodes(path) | node.name] as path_names,\n",
    "length(path) as distance\n",
    "LIMIT 5\n",
    "\"\"\")\n",
    "\n",
    "# Visualize the paths\n",
    "visualize_graph(\"\"\"\n",
    "MATCH path = (p1:Person {name: 'Alice Johnson'})-[:KNOWS]-(p2:Person {name: 'Carol Williams'})\n",
    "RETURN path\n",
    "\"\"\")"
   ]
  },
  {
   "cell_type": "markdown",
   "metadata": {},
   "source": [
    "### Functions and Aggregations <a name=\"functions-aggregations\"></a>\n",
    "\n",
    "Cypher offers built-in functions for calculations and aggregations."
   ]
  },
  {
   "cell_type": "code",
   "execution_count": 134,
   "metadata": {},
   "outputs": [
    {
     "name": "stdout",
     "output_type": "stream",
     "text": [
      "'Ali'\n",
      "'Bob'\n",
      "'Car'\n",
      "'Dav'\n",
      "'Eve'\n",
      "5\n",
      "32.0\n"
     ]
    }
   ],
   "source": [
    "# Get first 3 characters of each person's name\n",
    "run_cypher_query(\"\"\"\n",
    "MATCH (p:Person)\n",
    "RETURN substring(p.name, 0, 3)\n",
    "\"\"\")\n",
    "\n",
    "# Count all people\n",
    "run_cypher_query(\"\"\"\n",
    "MATCH (p:Person)\n",
    "RETURN count(p)\n",
    "\"\"\")\n",
    "\n",
    "# Calculate average age of all people\n",
    "run_cypher_query(\"\"\"\n",
    "MATCH (p:Person)\n",
    "RETURN avg(p.age)\n",
    "\"\"\")"
   ]
  },
  {
   "cell_type": "markdown",
   "metadata": {},
   "source": [
    "### Demonstrate various path functions\n",
    "\n",
    "This example demonstrates how to use various path functions to get the nodes, relationships, length of the path and the names of the nodes in the path."
   ]
  },
  {
   "cell_type": "code",
   "execution_count": 138,
   "metadata": {},
   "outputs": [
    {
     "name": "stdout",
     "output_type": "stream",
     "text": [
      "[Node('Person', age=30, email='alice@email.com', joined=Date(2020, 1, 1), name='Alice Johnson'), Node('Person', age=28, email='carol@email.com', joined=Date(2020, 3, 20), name='Carol Williams')]\t[KNOWS(Node('Person', age=30, email='alice@email.com', joined=Date(2020, 1, 1), name='Alice Johnson'), Node('Person', age=28, email='carol@email.com', joined=Date(2020, 3, 20), name='Carol Williams'), since=Date(2019, 6, 1), strength=0.4)]\t1\t['Alice Johnson', 'Carol Williams']\n"
     ]
    }
   ],
   "source": [
    "# Demonstrate various path functions\n",
    "run_cypher_query(\"\"\"\n",
    "MATCH path = (p1:Person {name: 'Alice Johnson'})-[:KNOWS]-(p2:Person {name: 'Carol Williams'})\n",
    "RETURN\n",
    "    nodes(path) as path_nodes, \n",
    "    relationships(path) as path_rels, \n",
    "    length(path) as path_length, \n",
    "    [x IN nodes(path) | x.name] as path_names\n",
    "LIMIT 1\n",
    "\"\"\")"
   ]
  },
  {
   "cell_type": "markdown",
   "metadata": {},
   "source": [
    "## Cypher in Action: Examples"
   ]
  },
  {
   "cell_type": "markdown",
   "metadata": {},
   "source": [
    "Let's apply what we've learned with some practical examples."
   ]
  },
  {
   "cell_type": "markdown",
   "metadata": {},
   "source": [
    "### Finding the Shortest Path Between Two People <a name=\"shortest-path\"></a>"
   ]
  },
  {
   "cell_type": "code",
   "execution_count": 142,
   "metadata": {},
   "outputs": [
    {
     "name": "stdout",
     "output_type": "stream",
     "text": [
      "Path(Node('Person', age=30, email='alice@email.com', joined=Date(2020, 1, 1), name='Alice Johnson'), KNOWS(Node('Person', age=25, email='eve@email.com', joined=Date(2020, 5, 5), name='Eve Davis'), Node('Person', age=30, email='alice@email.com', joined=Date(2020, 1, 1), name='Alice Johnson'), since=Date(2019, 5, 1), strength=0.5), KNOWS(Node('Person', age=42, email='dave@email.com', joined=Date(2020, 4, 10), name='Dave Brown'), Node('Person', age=25, email='eve@email.com', joined=Date(2020, 5, 5), name='Eve Davis'), since=Date(2019, 4, 1), strength=0.9))\n"
     ]
    }
   ],
   "source": [
    "run_cypher_query(\"\"\"\n",
    "MATCH path = shortestPath((alice:Person {name: 'Alice Johnson'})-[*]-(dave:Person {name: 'Dave Brown'}))\n",
    "RETURN path\n",
    "\"\"\")"
   ]
  },
  {
   "cell_type": "code",
   "execution_count": 143,
   "metadata": {},
   "outputs": [
    {
     "data": {
      "application/vnd.jupyter.widget-view+json": {
       "model_id": "cf5d50fcd677401a9c54085ff1748539",
       "version_major": 2,
       "version_minor": 0
      },
      "text/plain": [
       "GraphWidget(layout=Layout(height='500px', width='100%'))"
      ]
     },
     "metadata": {},
     "output_type": "display_data"
    }
   ],
   "source": [
    "# Visualize the shortest path:\n",
    "visualize_graph(\"\"\"\n",
    "    MATCH path = shortestPath((alice:Person {name: 'Alice Johnson'})-[*]-(dave:Person {name: 'Dave Brown'}))\n",
    "    UNWIND nodes(path) AS n\n",
    "    UNWIND relationships(path) AS r\n",
    "    RETURN n, r\n",
    "\"\"\")"
   ]
  },
  {
   "cell_type": "markdown",
   "metadata": {},
   "source": [
    "### Find all people over 30"
   ]
  },
  {
   "cell_type": "code",
   "execution_count": 144,
   "metadata": {},
   "outputs": [
    {
     "name": "stdout",
     "output_type": "stream",
     "text": [
      "'Bob Smith'\t35\n",
      "'Dave Brown'\t42\n"
     ]
    }
   ],
   "source": [
    "run_cypher_query(\"\"\"\n",
    "    MATCH (p:Person)\n",
    "    WHERE p.age > 30\n",
    "    RETURN p.name, p.age\n",
    "\"\"\")"
   ]
  },
  {
   "cell_type": "markdown",
   "metadata": {},
   "source": [
    "### Count relationships by type"
   ]
  },
  {
   "cell_type": "code",
   "execution_count": 145,
   "metadata": {},
   "outputs": [
    {
     "name": "stdout",
     "output_type": "stream",
     "text": [
      "'KNOWS'\t6\n",
      "'WORKS_AT'\t5\n",
      "'LIVES_IN'\t5\n",
      "'HAS_SKILL'\t6\n",
      "'LOCATED_IN'\t3\n"
     ]
    }
   ],
   "source": [
    "run_cypher_query(\"\"\"\n",
    "    MATCH ()-[r]->()\n",
    "    RETURN type(r) as relationship_type, count(*) as count\n",
    "\"\"\")"
   ]
  },
  {
   "cell_type": "markdown",
   "metadata": {},
   "source": [
    "### Find isolated nodes"
   ]
  },
  {
   "cell_type": "code",
   "execution_count": 146,
   "metadata": {},
   "outputs": [],
   "source": [
    "run_cypher_query(\"\"\"\n",
    "    MATCH (n)\n",
    "    WHERE NOT (n)--()\n",
    "    RETURN n\n",
    "\"\"\")"
   ]
  },
  {
   "cell_type": "markdown",
   "metadata": {},
   "source": [
    "### Find mutual friends\n",
    "\n",
    "This query:\n",
    "- Finds pairs of people (p1, p2) who both KNOW the same person (mutual)\n",
    "- Uses id(p1) < id(p2) to avoid showing the same pair twice (e.g., Alice-Bob and Bob-Alice)\n",
    "- collect() groups all mutual friends into a list\n",
    "- Returns:\n",
    "    - The names of both people\n",
    "    - A list of their mutual friends\n",
    "    - The count of mutual friends"
   ]
  },
  {
   "cell_type": "code",
   "execution_count": 148,
   "metadata": {},
   "outputs": [
    {
     "name": "stdout",
     "output_type": "stream",
     "text": [
      "'Alice Johnson'\t'Bob Smith'\t['Carol Williams']\t1\n"
     ]
    }
   ],
   "source": [
    "# Find all mutual friends of all nodes if exists\n",
    "run_cypher_query(\"\"\"\n",
    "    MATCH (p1:Person)-[:KNOWS]->(mutual:Person)<-[:KNOWS]-(p2:Person)\n",
    "    WHERE id(p1) < id(p2)  // To avoid duplicate pairs\n",
    "    RETURN \n",
    "        p1.name as person1,\n",
    "        p2.name as person2,\n",
    "        collect(mutual.name) as mutual_friends,\n",
    "        size(collect(mutual.name)) as number_of_mutual_friends\n",
    "    ORDER BY number_of_mutual_friends DESC\n",
    "\"\"\")"
   ]
  },
  {
   "cell_type": "markdown",
   "metadata": {},
   "source": [
    "### Calculate average path length"
   ]
  },
  {
   "cell_type": "code",
   "execution_count": 149,
   "metadata": {},
   "outputs": [
    {
     "name": "stdout",
     "output_type": "stream",
     "text": [
      "1.4\n"
     ]
    }
   ],
   "source": [
    "run_cypher_query(\"\"\"\n",
    "    MATCH (p1:Person), (p2:Person)\n",
    "    WHERE id(p1) < id(p2)\n",
    "    MATCH path = shortestPath((p1)-[*]-(p2))\n",
    "    RETURN avg(length(path)) as avg_path_length\n",
    "\"\"\")"
   ]
  },
  {
   "cell_type": "markdown",
   "metadata": {},
   "source": [
    "## Some Best Practices"
   ]
  },
  {
   "cell_type": "markdown",
   "metadata": {},
   "source": [
    "**Create Indexes on frequently queried properties**"
   ]
  },
  {
   "cell_type": "code",
   "execution_count": 168,
   "metadata": {},
   "outputs": [
    {
     "name": "stdout",
     "output_type": "stream",
     "text": [
      "Index created for Person.age\n",
      "Index already exists for Company.name\n"
     ]
    }
   ],
   "source": [
    "def create_index_if_not_exists(driver, label, property):\n",
    "    try:\n",
    "        with driver.session() as session:\n",
    "            # First check if index exists\n",
    "            result = session.run(\"\"\"\n",
    "                SHOW INDEXES\n",
    "                WHERE labelsOrTypes = [$label]\n",
    "                AND properties = [$property]\n",
    "                \"\"\", label=label, property=property)\n",
    "            \n",
    "            # If no index exists, create it\n",
    "            if not result.single():\n",
    "                session.run(f\"\"\"\n",
    "                    CREATE INDEX {label.lower()}_{property}\n",
    "                    FOR (n:{label})\n",
    "                    ON (n.{property})\n",
    "                    \"\"\")\n",
    "                print(f\"Index created for {label}.{property}\")\n",
    "            else:\n",
    "                print(f\"Index already exists for {label}.{property}\")\n",
    "                \n",
    "    except Exception as e:\n",
    "        print(f\"Error handling index: {str(e)}\")\n",
    "\n",
    "# Usage example\n",
    "def setup_indexes(driver):\n",
    "    try:\n",
    "        create_index_if_not_exists(driver, \"Person\", \"age\")\n",
    "        create_index_if_not_exists(driver, \"Company\", \"name\")\n",
    "    except Exception as e:\n",
    "        print(f\"Error setting up indexes: {str(e)}\")\n",
    "\n",
    "setup_indexes(driver)"
   ]
  },
  {
   "cell_type": "markdown",
   "metadata": {},
   "source": [
    "**Use LIMIT and Skip for Pagination**"
   ]
  },
  {
   "cell_type": "code",
   "execution_count": 171,
   "metadata": {},
   "outputs": [
    {
     "name": "stdout",
     "output_type": "stream",
     "text": [
      "'Alice Johnson'\t30\t'alice@email.com'\n",
      "'Bob Smith'\t35\t'bob@email.com'\n"
     ]
    }
   ],
   "source": [
    "# Basic pagination\n",
    "run_cypher_query(\"\"\"\n",
    "    MATCH (p:Person)\n",
    "    RETURN \n",
    "        p.name as name,\n",
    "        p.age as age,\n",
    "        p.email as email\n",
    "    ORDER BY p.name\n",
    "    SKIP 0 LIMIT 2  // First page, 2 items per page\n",
    "\"\"\")"
   ]
  },
  {
   "cell_type": "markdown",
   "metadata": {},
   "source": [
    "**Performance Issues**"
   ]
  },
  {
   "cell_type": "code",
   "execution_count": 172,
   "metadata": {},
   "outputs": [],
   "source": [
    "run_cypher_query(\"\"\"\n",
    "    // Use EXPLAIN to see query plan:\n",
    "    EXPLAIN MATCH (p:Person)-[:KNOWS*1..3]->(f:Person)\n",
    "    RETURN p, f\n",
    "\"\"\")"
   ]
  },
  {
   "cell_type": "code",
   "execution_count": 173,
   "metadata": {},
   "outputs": [
    {
     "name": "stdout",
     "output_type": "stream",
     "text": [
      "Node('Person', age=30, email='alice@email.com', joined=Date(2020, 1, 1), name='Alice Johnson')\tNode('Person', age=35, email='bob@email.com', joined=Date(2020, 2, 15), name='Bob Smith')\n",
      "Node('Person', age=30, email='alice@email.com', joined=Date(2020, 1, 1), name='Alice Johnson')\tNode('Person', age=28, email='carol@email.com', joined=Date(2020, 3, 20), name='Carol Williams')\n",
      "Node('Person', age=30, email='alice@email.com', joined=Date(2020, 1, 1), name='Alice Johnson')\tNode('Person', age=42, email='dave@email.com', joined=Date(2020, 4, 10), name='Dave Brown')\n",
      "Node('Person', age=30, email='alice@email.com', joined=Date(2020, 1, 1), name='Alice Johnson')\tNode('Person', age=28, email='carol@email.com', joined=Date(2020, 3, 20), name='Carol Williams')\n",
      "Node('Person', age=30, email='alice@email.com', joined=Date(2020, 1, 1), name='Alice Johnson')\tNode('Person', age=42, email='dave@email.com', joined=Date(2020, 4, 10), name='Dave Brown')\n",
      "Node('Person', age=30, email='alice@email.com', joined=Date(2020, 1, 1), name='Alice Johnson')\tNode('Person', age=25, email='eve@email.com', joined=Date(2020, 5, 5), name='Eve Davis')\n",
      "Node('Person', age=35, email='bob@email.com', joined=Date(2020, 2, 15), name='Bob Smith')\tNode('Person', age=28, email='carol@email.com', joined=Date(2020, 3, 20), name='Carol Williams')\n",
      "Node('Person', age=35, email='bob@email.com', joined=Date(2020, 2, 15), name='Bob Smith')\tNode('Person', age=42, email='dave@email.com', joined=Date(2020, 4, 10), name='Dave Brown')\n",
      "Node('Person', age=35, email='bob@email.com', joined=Date(2020, 2, 15), name='Bob Smith')\tNode('Person', age=25, email='eve@email.com', joined=Date(2020, 5, 5), name='Eve Davis')\n",
      "Node('Person', age=28, email='carol@email.com', joined=Date(2020, 3, 20), name='Carol Williams')\tNode('Person', age=42, email='dave@email.com', joined=Date(2020, 4, 10), name='Dave Brown')\n",
      "Node('Person', age=28, email='carol@email.com', joined=Date(2020, 3, 20), name='Carol Williams')\tNode('Person', age=25, email='eve@email.com', joined=Date(2020, 5, 5), name='Eve Davis')\n",
      "Node('Person', age=28, email='carol@email.com', joined=Date(2020, 3, 20), name='Carol Williams')\tNode('Person', age=30, email='alice@email.com', joined=Date(2020, 1, 1), name='Alice Johnson')\n",
      "Node('Person', age=42, email='dave@email.com', joined=Date(2020, 4, 10), name='Dave Brown')\tNode('Person', age=25, email='eve@email.com', joined=Date(2020, 5, 5), name='Eve Davis')\n",
      "Node('Person', age=42, email='dave@email.com', joined=Date(2020, 4, 10), name='Dave Brown')\tNode('Person', age=30, email='alice@email.com', joined=Date(2020, 1, 1), name='Alice Johnson')\n",
      "Node('Person', age=42, email='dave@email.com', joined=Date(2020, 4, 10), name='Dave Brown')\tNode('Person', age=35, email='bob@email.com', joined=Date(2020, 2, 15), name='Bob Smith')\n",
      "Node('Person', age=42, email='dave@email.com', joined=Date(2020, 4, 10), name='Dave Brown')\tNode('Person', age=28, email='carol@email.com', joined=Date(2020, 3, 20), name='Carol Williams')\n",
      "Node('Person', age=25, email='eve@email.com', joined=Date(2020, 5, 5), name='Eve Davis')\tNode('Person', age=30, email='alice@email.com', joined=Date(2020, 1, 1), name='Alice Johnson')\n",
      "Node('Person', age=25, email='eve@email.com', joined=Date(2020, 5, 5), name='Eve Davis')\tNode('Person', age=35, email='bob@email.com', joined=Date(2020, 2, 15), name='Bob Smith')\n",
      "Node('Person', age=25, email='eve@email.com', joined=Date(2020, 5, 5), name='Eve Davis')\tNode('Person', age=28, email='carol@email.com', joined=Date(2020, 3, 20), name='Carol Williams')\n",
      "Node('Person', age=25, email='eve@email.com', joined=Date(2020, 5, 5), name='Eve Davis')\tNode('Person', age=28, email='carol@email.com', joined=Date(2020, 3, 20), name='Carol Williams')\n",
      "Node('Person', age=25, email='eve@email.com', joined=Date(2020, 5, 5), name='Eve Davis')\tNode('Person', age=42, email='dave@email.com', joined=Date(2020, 4, 10), name='Dave Brown')\n"
     ]
    }
   ],
   "source": [
    "run_cypher_query(\"\"\"\n",
    "    // Use PROFILE for detailed statistics:\n",
    "    PROFILE MATCH (p:Person)-[:KNOWS*1..3]->(f:Person)\n",
    "    RETURN p, f\n",
    "\"\"\")"
   ]
  },
  {
   "cell_type": "markdown",
   "metadata": {},
   "source": [
    "**Use type checking to avoid errors in case of type mismatch:**"
   ]
  },
  {
   "cell_type": "code",
   "execution_count": 176,
   "metadata": {},
   "outputs": [
    {
     "name": "stdout",
     "output_type": "stream",
     "text": [
      "Node('Person', age=35, email='bob@email.com', joined=Date(2020, 2, 15), name='Bob Smith')\n",
      "Node('Person', age=42, email='dave@email.com', joined=Date(2020, 4, 10), name='Dave Brown')\n"
     ]
    }
   ],
   "source": [
    "run_cypher_query(\"\"\"\n",
    "    MATCH (p:Person)\n",
    "    WHERE toInteger(p.age) > 30\n",
    "    RETURN p\n",
    "\"\"\")"
   ]
  },
  {
   "cell_type": "markdown",
   "metadata": {},
   "source": [
    "**When dealing with large result sets, stream results instead of collecting all at once to avoid memory issues:**"
   ]
  },
  {
   "cell_type": "code",
   "execution_count": 177,
   "metadata": {},
   "outputs": [
    {
     "name": "stdout",
     "output_type": "stream",
     "text": [
      "Person Details:\n",
      "  Name: Bob Smith\n",
      "  Age: 35\n",
      "  Email: bob@email.com\n",
      "---\n",
      "Person Details:\n",
      "  Name: Dave Brown\n",
      "  Age: 42\n",
      "  Email: dave@email.com\n",
      "---\n"
     ]
    }
   ],
   "source": [
    "def process_record(record):\n",
    "    \"\"\"\n",
    "    Simple function to process and print Neo4j record properties\n",
    "    \"\"\"\n",
    "    # Get the person node from the record\n",
    "    person = record['p']  # 'p' matches the return variable in the query\n",
    "    \n",
    "    # Extract and print properties\n",
    "    print(f\"Person Details:\")\n",
    "    print(f\"  Name: {person.get('name', 'N/A')}\")\n",
    "    print(f\"  Age: {person.get('age', 'N/A')}\")\n",
    "    print(f\"  Email: {person.get('email', 'N/A')}\")\n",
    "    print(\"---\")\n",
    "\n",
    "def stream_results(query):\n",
    "    with driver.session() as session:\n",
    "        result = session.run(query)\n",
    "        for record in result:\n",
    "            yield record\n",
    "            \n",
    "# Usage example\n",
    "for record in stream_results(\"MATCH (p:Person) WHERE toInteger(p.age) > 30 RETURN p\"):\n",
    "    process_record(record)"
   ]
  },
  {
   "cell_type": "markdown",
   "metadata": {},
   "source": [
    "**Always use parameters for security**"
   ]
  },
  {
   "cell_type": "code",
   "execution_count": 178,
   "metadata": {},
   "outputs": [
    {
     "name": "stdout",
     "output_type": "stream",
     "text": [
      "<Record p.name='Alice Johnson' p.age=30>\n"
     ]
    }
   ],
   "source": [
    "# BAD PRACTICE (vulnerable to injection):\n",
    "name = \"Alice' OR '1'='1\"  # Malicious input\n",
    "unsafe_query = f\"\"\"\n",
    "    MATCH (p:Person)\n",
    "    WHERE p.name = '{name}'\n",
    "    RETURN p\n",
    "\"\"\"\n",
    "\n",
    "# GOOD PRACTICE (using parameters):\n",
    "from neo4j import GraphDatabase\n",
    "\n",
    "# 1. Basic parameter example\n",
    "def find_person(tx, name):\n",
    "    query = \"\"\"\n",
    "        MATCH (p:Person)\n",
    "        WHERE p.name = $name\n",
    "        RETURN p.name, p.age\n",
    "    \"\"\"\n",
    "    rec = tx.run(query, name=name)\n",
    "    return rec.single()\n",
    "\n",
    "# Usage examples:\n",
    "with driver.session() as session:\n",
    "    # Find single person\n",
    "    result = session.execute_read(\n",
    "        find_person, \n",
    "        name=\"Alice Johnson\"\n",
    "    )\n",
    "    print(result)"
   ]
  },
  {
   "cell_type": "markdown",
   "metadata": {},
   "source": [
    "**Some other best practices**"
   ]
  },
  {
   "cell_type": "markdown",
   "metadata": {},
   "source": [
    "- Handle errors gracefully\n",
    "- Test queries with small datasets first\n",
    "- Monitor memory usage with large datasets"
   ]
  },
  {
   "cell_type": "markdown",
   "metadata": {},
   "source": [
    "## Conclusion"
   ]
  },
  {
   "cell_type": "markdown",
   "metadata": {},
   "source": [
    "In this tutorial, we've explored the fundamentals of the Cypher Query Language and its application within Neo4j knowledge base database. By combining theory with practical implementation and visualization, you should now have a solid understanding of how to work with Cypher to query and manipulate knowledge graphs effectively.\n",
    "\n",
    "Cypher's intuitive syntax and powerful features make it an invaluable tool for anyone working with graph databases or building advanced AI systems that leverage interconnected data."
   ]
  },
  {
   "cell_type": "markdown",
   "metadata": {},
   "source": [
    "**References:**\n",
    "\n",
    "- [Neo4j Cypher Manual](https://neo4j.com/docs/cypher-manual/current/)\n",
    "- [Py2neo Documentation](https://py2neo.org/)"
   ]
  }
 ],
 "metadata": {
  "kernelspec": {
   "display_name": "neo4j",
   "language": "python",
   "name": "python3"
  },
  "language_info": {
   "codemirror_mode": {
    "name": "ipython",
    "version": 3
   },
   "file_extension": ".py",
   "mimetype": "text/x-python",
   "name": "python",
   "nbconvert_exporter": "python",
   "pygments_lexer": "ipython3",
   "version": "3.12.7"
  }
 },
 "nbformat": 4,
 "nbformat_minor": 2
}
